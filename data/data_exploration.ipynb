{
 "cells": [
  {
   "attachments": {},
   "cell_type": "markdown",
   "metadata": {},
   "source": [
    "# Data Exploration"
   ]
  },
  {
   "attachments": {},
   "cell_type": "markdown",
   "metadata": {},
   "source": [
    "## Basic setup"
   ]
  },
  {
   "cell_type": "code",
   "execution_count": 23,
   "metadata": {},
   "outputs": [],
   "source": [
    "import os\n",
    "import pandas as pd\n",
    "\n",
    "REL_DB_LOC = './clean/evs_per_capita.sqlite'\n",
    "DB_CON = 'sqlite:///clean/evs_per_capita.sqlite'\n",
    "\n",
    "data_found = os.path.exists(REL_DB_LOC)\n",
    "\n",
    "if not data_found:\n",
    "    raise SystemExit(\"No data found! Please execute 'data_pipeline.py' first!\")\n"
   ]
  },
  {
   "attachments": {},
   "cell_type": "markdown",
   "metadata": {},
   "source": [
    "## Import the data"
   ]
  },
  {
   "cell_type": "code",
   "execution_count": 24,
   "metadata": {},
   "outputs": [],
   "source": [
    "df = pd.read_sql('evs_per_capita', DB_CON)"
   ]
  },
  {
   "attachments": {},
   "cell_type": "markdown",
   "metadata": {},
   "source": [
    "## Data description"
   ]
  },
  {
   "attachments": {},
   "cell_type": "markdown",
   "metadata": {},
   "source": [
    "| **Column**     | **Description**                                                 |\n",
    "|----------------|-----------------------------------------------------------------|\n",
    "| federal_state  | Name of the federal state                                       |\n",
    "| electric_total | Total no. of (purely) electric vehicle registrations            |\n",
    "| hybrid_total   | Total no. of hybrid vehicle registrations                       |\n",
    "| total          | Total no. of vehicle registrations                              |\n",
    "| share_electric | Percentage of electric (including hybrid) vehicle registrations |\n",
    "| gdp_per_capita | GDP per capita                                                  |"
   ]
  },
  {
   "attachments": {},
   "cell_type": "markdown",
   "metadata": {},
   "source": [
    "## Data statistics"
   ]
  },
  {
   "cell_type": "code",
   "execution_count": 25,
   "metadata": {},
   "outputs": [
    {
     "data": {
      "text/html": [
       "<div>\n",
       "<style scoped>\n",
       "    .dataframe tbody tr th:only-of-type {\n",
       "        vertical-align: middle;\n",
       "    }\n",
       "\n",
       "    .dataframe tbody tr th {\n",
       "        vertical-align: top;\n",
       "    }\n",
       "\n",
       "    .dataframe thead th {\n",
       "        text-align: right;\n",
       "    }\n",
       "</style>\n",
       "<table border=\"1\" class=\"dataframe\">\n",
       "  <thead>\n",
       "    <tr style=\"text-align: right;\">\n",
       "      <th></th>\n",
       "      <th>electric_total</th>\n",
       "      <th>hybrid_total</th>\n",
       "      <th>total</th>\n",
       "      <th>share_electric</th>\n",
       "      <th>gdp_per_capita</th>\n",
       "    </tr>\n",
       "  </thead>\n",
       "  <tbody>\n",
       "    <tr>\n",
       "      <th>count</th>\n",
       "      <td>16.000000</td>\n",
       "      <td>16.000000</td>\n",
       "      <td>16.000000</td>\n",
       "      <td>16.000000</td>\n",
       "      <td>16.000000</td>\n",
       "    </tr>\n",
       "    <tr>\n",
       "      <th>mean</th>\n",
       "      <td>1857.375000</td>\n",
       "      <td>3713.812500</td>\n",
       "      <td>12676.812500</td>\n",
       "      <td>0.435513</td>\n",
       "      <td>44579.812500</td>\n",
       "    </tr>\n",
       "    <tr>\n",
       "      <th>std</th>\n",
       "      <td>2117.656027</td>\n",
       "      <td>4314.735654</td>\n",
       "      <td>14135.044427</td>\n",
       "      <td>0.057254</td>\n",
       "      <td>11537.411849</td>\n",
       "    </tr>\n",
       "    <tr>\n",
       "      <th>min</th>\n",
       "      <td>191.000000</td>\n",
       "      <td>511.000000</td>\n",
       "      <td>1349.000000</td>\n",
       "      <td>0.350200</td>\n",
       "      <td>32837.000000</td>\n",
       "    </tr>\n",
       "    <tr>\n",
       "      <th>25%</th>\n",
       "      <td>350.000000</td>\n",
       "      <td>805.500000</td>\n",
       "      <td>3143.750000</td>\n",
       "      <td>0.391125</td>\n",
       "      <td>35584.250000</td>\n",
       "    </tr>\n",
       "    <tr>\n",
       "      <th>50%</th>\n",
       "      <td>781.500000</td>\n",
       "      <td>1891.000000</td>\n",
       "      <td>6079.500000</td>\n",
       "      <td>0.439750</td>\n",
       "      <td>41596.000000</td>\n",
       "    </tr>\n",
       "    <tr>\n",
       "      <th>75%</th>\n",
       "      <td>3042.750000</td>\n",
       "      <td>4616.500000</td>\n",
       "      <td>20811.750000</td>\n",
       "      <td>0.467000</td>\n",
       "      <td>50808.750000</td>\n",
       "    </tr>\n",
       "    <tr>\n",
       "      <th>max</th>\n",
       "      <td>6228.000000</td>\n",
       "      <td>14286.000000</td>\n",
       "      <td>43821.000000</td>\n",
       "      <td>0.532400</td>\n",
       "      <td>76910.000000</td>\n",
       "    </tr>\n",
       "  </tbody>\n",
       "</table>\n",
       "</div>"
      ],
      "text/plain": [
       "       electric_total  hybrid_total         total  share_electric   \n",
       "count       16.000000     16.000000     16.000000       16.000000  \\\n",
       "mean      1857.375000   3713.812500  12676.812500        0.435513   \n",
       "std       2117.656027   4314.735654  14135.044427        0.057254   \n",
       "min        191.000000    511.000000   1349.000000        0.350200   \n",
       "25%        350.000000    805.500000   3143.750000        0.391125   \n",
       "50%        781.500000   1891.000000   6079.500000        0.439750   \n",
       "75%       3042.750000   4616.500000  20811.750000        0.467000   \n",
       "max       6228.000000  14286.000000  43821.000000        0.532400   \n",
       "\n",
       "       gdp_per_capita  \n",
       "count       16.000000  \n",
       "mean     44579.812500  \n",
       "std      11537.411849  \n",
       "min      32837.000000  \n",
       "25%      35584.250000  \n",
       "50%      41596.000000  \n",
       "75%      50808.750000  \n",
       "max      76910.000000  "
      ]
     },
     "execution_count": 25,
     "metadata": {},
     "output_type": "execute_result"
    }
   ],
   "source": [
    "df.describe()"
   ]
  },
  {
   "attachments": {},
   "cell_type": "markdown",
   "metadata": {},
   "source": [
    "## Data types"
   ]
  },
  {
   "cell_type": "code",
   "execution_count": 26,
   "metadata": {},
   "outputs": [
    {
     "name": "stdout",
     "output_type": "stream",
     "text": [
      "<class 'pandas.core.frame.DataFrame'>\n",
      "RangeIndex: 16 entries, 0 to 15\n",
      "Data columns (total 6 columns):\n",
      " #   Column          Non-Null Count  Dtype  \n",
      "---  ------          --------------  -----  \n",
      " 0   federal_state   16 non-null     object \n",
      " 1   electric_total  16 non-null     int64  \n",
      " 2   hybrid_total    16 non-null     int64  \n",
      " 3   total           16 non-null     int64  \n",
      " 4   share_electric  16 non-null     float64\n",
      " 5   gdp_per_capita  16 non-null     int64  \n",
      "dtypes: float64(1), int64(4), object(1)\n",
      "memory usage: 900.0+ bytes\n"
     ]
    }
   ],
   "source": [
    "df.info()"
   ]
  },
  {
   "attachments": {},
   "cell_type": "markdown",
   "metadata": {},
   "source": [
    "## Example data"
   ]
  },
  {
   "cell_type": "code",
   "execution_count": 27,
   "metadata": {},
   "outputs": [
    {
     "data": {
      "text/html": [
       "<div>\n",
       "<style scoped>\n",
       "    .dataframe tbody tr th:only-of-type {\n",
       "        vertical-align: middle;\n",
       "    }\n",
       "\n",
       "    .dataframe tbody tr th {\n",
       "        vertical-align: top;\n",
       "    }\n",
       "\n",
       "    .dataframe thead th {\n",
       "        text-align: right;\n",
       "    }\n",
       "</style>\n",
       "<table border=\"1\" class=\"dataframe\">\n",
       "  <thead>\n",
       "    <tr style=\"text-align: right;\">\n",
       "      <th></th>\n",
       "      <th>federal_state</th>\n",
       "      <th>electric_total</th>\n",
       "      <th>hybrid_total</th>\n",
       "      <th>total</th>\n",
       "      <th>share_electric</th>\n",
       "      <th>gdp_per_capita</th>\n",
       "    </tr>\n",
       "  </thead>\n",
       "  <tbody>\n",
       "    <tr>\n",
       "      <th>0</th>\n",
       "      <td>Baden-Württemberg</td>\n",
       "      <td>4917</td>\n",
       "      <td>9795</td>\n",
       "      <td>29256</td>\n",
       "      <td>0.5029</td>\n",
       "      <td>50982</td>\n",
       "    </tr>\n",
       "    <tr>\n",
       "      <th>1</th>\n",
       "      <td>Bayern</td>\n",
       "      <td>5935</td>\n",
       "      <td>14286</td>\n",
       "      <td>43821</td>\n",
       "      <td>0.4614</td>\n",
       "      <td>53768</td>\n",
       "    </tr>\n",
       "    <tr>\n",
       "      <th>2</th>\n",
       "      <td>Berlin</td>\n",
       "      <td>903</td>\n",
       "      <td>2487</td>\n",
       "      <td>6367</td>\n",
       "      <td>0.5324</td>\n",
       "      <td>48147</td>\n",
       "    </tr>\n",
       "    <tr>\n",
       "      <th>3</th>\n",
       "      <td>Brandenburg</td>\n",
       "      <td>529</td>\n",
       "      <td>938</td>\n",
       "      <td>3349</td>\n",
       "      <td>0.4380</td>\n",
       "      <td>34610</td>\n",
       "    </tr>\n",
       "    <tr>\n",
       "      <th>4</th>\n",
       "      <td>Bremen</td>\n",
       "      <td>191</td>\n",
       "      <td>512</td>\n",
       "      <td>1349</td>\n",
       "      <td>0.5211</td>\n",
       "      <td>56901</td>\n",
       "    </tr>\n",
       "  </tbody>\n",
       "</table>\n",
       "</div>"
      ],
      "text/plain": [
       "       federal_state  electric_total  hybrid_total  total  share_electric   \n",
       "0  Baden-Württemberg            4917          9795  29256          0.5029  \\\n",
       "1             Bayern            5935         14286  43821          0.4614   \n",
       "2             Berlin             903          2487   6367          0.5324   \n",
       "3        Brandenburg             529           938   3349          0.4380   \n",
       "4             Bremen             191           512   1349          0.5211   \n",
       "\n",
       "   gdp_per_capita  \n",
       "0           50982  \n",
       "1           53768  \n",
       "2           48147  \n",
       "3           34610  \n",
       "4           56901  "
      ]
     },
     "execution_count": 27,
     "metadata": {},
     "output_type": "execute_result"
    }
   ],
   "source": [
    "df.head()"
   ]
  }
 ],
 "metadata": {
  "kernelspec": {
   "display_name": ".venv",
   "language": "python",
   "name": "python3"
  },
  "language_info": {
   "codemirror_mode": {
    "name": "ipython",
    "version": 3
   },
   "file_extension": ".py",
   "mimetype": "text/x-python",
   "name": "python",
   "nbconvert_exporter": "python",
   "pygments_lexer": "ipython3",
   "version": "3.11.3"
  },
  "orig_nbformat": 4
 },
 "nbformat": 4,
 "nbformat_minor": 2
}
