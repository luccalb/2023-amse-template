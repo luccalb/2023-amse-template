{
 "cells": [
  {
   "attachments": {},
   "cell_type": "markdown",
   "metadata": {},
   "source": [
    "# Data Exploration"
   ]
  },
  {
   "attachments": {},
   "cell_type": "markdown",
   "metadata": {},
   "source": [
    "## Basic setup"
   ]
  },
  {
   "cell_type": "code",
   "execution_count": 1,
   "metadata": {},
   "outputs": [],
   "source": [
    "import os\n",
    "import pandas as pd\n",
    "\n",
    "REL_DB_LOC = './clean/evs_per_capita.sqlite'\n",
    "DB_CON = 'sqlite:///clean/evs_per_capita.sqlite'\n",
    "\n",
    "data_found = os.path.exists(REL_DB_LOC)\n",
    "\n",
    "if not data_found:\n",
    "    raise SystemExit(\"No data found! Please execute 'data_pipeline.py' first!\")\n"
   ]
  },
  {
   "attachments": {},
   "cell_type": "markdown",
   "metadata": {},
   "source": [
    "## Import the data"
   ]
  },
  {
   "cell_type": "code",
   "execution_count": 2,
   "metadata": {},
   "outputs": [],
   "source": [
    "df = pd.read_sql('evs_per_capita', DB_CON)"
   ]
  },
  {
   "attachments": {},
   "cell_type": "markdown",
   "metadata": {},
   "source": [
    "## Data description"
   ]
  },
  {
   "attachments": {},
   "cell_type": "markdown",
   "metadata": {},
   "source": [
    "| **Column**     | **Description**                                                 |\n",
    "|----------------|-----------------------------------------------------------------|\n",
    "| federal_state  | Name of the federal state                                       |\n",
    "| electric_total | Total no. of (purely) electric vehicle registrations            |\n",
    "| hybrid_total   | Total no. of hybrid vehicle registrations                       |\n",
    "| total          | Total no. of vehicle registrations                              |\n",
    "| share_electric | Percentage of electric (including hybrid) vehicle registrations |\n",
    "| gdp_per_capita | GDP per capita                                                  |"
   ]
  },
  {
   "attachments": {},
   "cell_type": "markdown",
   "metadata": {},
   "source": [
    "## Data statistics"
   ]
  },
  {
   "cell_type": "code",
   "execution_count": 3,
   "metadata": {},
   "outputs": [
    {
     "data": {
      "text/html": [
       "<div>\n",
       "<style scoped>\n",
       "    .dataframe tbody tr th:only-of-type {\n",
       "        vertical-align: middle;\n",
       "    }\n",
       "\n",
       "    .dataframe tbody tr th {\n",
       "        vertical-align: top;\n",
       "    }\n",
       "\n",
       "    .dataframe thead th {\n",
       "        text-align: right;\n",
       "    }\n",
       "</style>\n",
       "<table border=\"1\" class=\"dataframe\">\n",
       "  <thead>\n",
       "    <tr style=\"text-align: right;\">\n",
       "      <th></th>\n",
       "      <th>electric_total</th>\n",
       "      <th>total</th>\n",
       "      <th>hybrid_total</th>\n",
       "      <th>share_electric</th>\n",
       "      <th>gdp_per_capita</th>\n",
       "    </tr>\n",
       "  </thead>\n",
       "  <tbody>\n",
       "    <tr>\n",
       "      <th>count</th>\n",
       "      <td>16.000000</td>\n",
       "      <td>16.000000</td>\n",
       "      <td>16.0000</td>\n",
       "      <td>16.000000</td>\n",
       "      <td>16.000000</td>\n",
       "    </tr>\n",
       "    <tr>\n",
       "      <th>mean</th>\n",
       "      <td>7774.562500</td>\n",
       "      <td>54329.187500</td>\n",
       "      <td>15815.1250</td>\n",
       "      <td>0.430856</td>\n",
       "      <td>44579.812500</td>\n",
       "    </tr>\n",
       "    <tr>\n",
       "      <th>std</th>\n",
       "      <td>8957.123586</td>\n",
       "      <td>60380.779832</td>\n",
       "      <td>17993.1496</td>\n",
       "      <td>0.050083</td>\n",
       "      <td>11537.411849</td>\n",
       "    </tr>\n",
       "    <tr>\n",
       "      <th>min</th>\n",
       "      <td>770.000000</td>\n",
       "      <td>5809.000000</td>\n",
       "      <td>2243.0000</td>\n",
       "      <td>0.341700</td>\n",
       "      <td>32837.000000</td>\n",
       "    </tr>\n",
       "    <tr>\n",
       "      <th>25%</th>\n",
       "      <td>1506.000000</td>\n",
       "      <td>14496.500000</td>\n",
       "      <td>3846.7500</td>\n",
       "      <td>0.391950</td>\n",
       "      <td>35584.250000</td>\n",
       "    </tr>\n",
       "    <tr>\n",
       "      <th>50%</th>\n",
       "      <td>3089.500000</td>\n",
       "      <td>26517.000000</td>\n",
       "      <td>8280.5000</td>\n",
       "      <td>0.437500</td>\n",
       "      <td>41596.000000</td>\n",
       "    </tr>\n",
       "    <tr>\n",
       "      <th>75%</th>\n",
       "      <td>11954.500000</td>\n",
       "      <td>86040.250000</td>\n",
       "      <td>19812.5000</td>\n",
       "      <td>0.450975</td>\n",
       "      <td>50808.750000</td>\n",
       "    </tr>\n",
       "    <tr>\n",
       "      <th>max</th>\n",
       "      <td>27086.000000</td>\n",
       "      <td>185102.000000</td>\n",
       "      <td>55845.0000</td>\n",
       "      <td>0.518700</td>\n",
       "      <td>76910.000000</td>\n",
       "    </tr>\n",
       "  </tbody>\n",
       "</table>\n",
       "</div>"
      ],
      "text/plain": [
       "       electric_total          total  hybrid_total  share_electric   \n",
       "count       16.000000      16.000000       16.0000       16.000000  \\\n",
       "mean      7774.562500   54329.187500    15815.1250        0.430856   \n",
       "std       8957.123586   60380.779832    17993.1496        0.050083   \n",
       "min        770.000000    5809.000000     2243.0000        0.341700   \n",
       "25%       1506.000000   14496.500000     3846.7500        0.391950   \n",
       "50%       3089.500000   26517.000000     8280.5000        0.437500   \n",
       "75%      11954.500000   86040.250000    19812.5000        0.450975   \n",
       "max      27086.000000  185102.000000    55845.0000        0.518700   \n",
       "\n",
       "       gdp_per_capita  \n",
       "count       16.000000  \n",
       "mean     44579.812500  \n",
       "std      11537.411849  \n",
       "min      32837.000000  \n",
       "25%      35584.250000  \n",
       "50%      41596.000000  \n",
       "75%      50808.750000  \n",
       "max      76910.000000  "
      ]
     },
     "execution_count": 3,
     "metadata": {},
     "output_type": "execute_result"
    }
   ],
   "source": [
    "df.describe()"
   ]
  },
  {
   "attachments": {},
   "cell_type": "markdown",
   "metadata": {},
   "source": [
    "## Data types"
   ]
  },
  {
   "cell_type": "code",
   "execution_count": 4,
   "metadata": {},
   "outputs": [
    {
     "name": "stdout",
     "output_type": "stream",
     "text": [
      "<class 'pandas.core.frame.DataFrame'>\n",
      "RangeIndex: 16 entries, 0 to 15\n",
      "Data columns (total 6 columns):\n",
      " #   Column          Non-Null Count  Dtype  \n",
      "---  ------          --------------  -----  \n",
      " 0   federal_state   16 non-null     object \n",
      " 1   electric_total  16 non-null     int64  \n",
      " 2   total           16 non-null     int64  \n",
      " 3   hybrid_total    16 non-null     int64  \n",
      " 4   share_electric  16 non-null     float64\n",
      " 5   gdp_per_capita  16 non-null     int64  \n",
      "dtypes: float64(1), int64(4), object(1)\n",
      "memory usage: 900.0+ bytes\n"
     ]
    }
   ],
   "source": [
    "df.info()"
   ]
  },
  {
   "attachments": {},
   "cell_type": "markdown",
   "metadata": {},
   "source": [
    "## Example data"
   ]
  },
  {
   "cell_type": "code",
   "execution_count": 5,
   "metadata": {},
   "outputs": [
    {
     "data": {
      "text/html": [
       "<div>\n",
       "<style scoped>\n",
       "    .dataframe tbody tr th:only-of-type {\n",
       "        vertical-align: middle;\n",
       "    }\n",
       "\n",
       "    .dataframe tbody tr th {\n",
       "        vertical-align: top;\n",
       "    }\n",
       "\n",
       "    .dataframe thead th {\n",
       "        text-align: right;\n",
       "    }\n",
       "</style>\n",
       "<table border=\"1\" class=\"dataframe\">\n",
       "  <thead>\n",
       "    <tr style=\"text-align: right;\">\n",
       "      <th></th>\n",
       "      <th>federal_state</th>\n",
       "      <th>electric_total</th>\n",
       "      <th>total</th>\n",
       "      <th>hybrid_total</th>\n",
       "      <th>share_electric</th>\n",
       "      <th>gdp_per_capita</th>\n",
       "    </tr>\n",
       "  </thead>\n",
       "  <tbody>\n",
       "    <tr>\n",
       "      <th>0</th>\n",
       "      <td>Baden-Württemberg</td>\n",
       "      <td>20872</td>\n",
       "      <td>127339</td>\n",
       "      <td>42351</td>\n",
       "      <td>0.4965</td>\n",
       "      <td>50982</td>\n",
       "    </tr>\n",
       "    <tr>\n",
       "      <th>1</th>\n",
       "      <td>Bayern</td>\n",
       "      <td>24662</td>\n",
       "      <td>185102</td>\n",
       "      <td>55845</td>\n",
       "      <td>0.4349</td>\n",
       "      <td>53768</td>\n",
       "    </tr>\n",
       "    <tr>\n",
       "      <th>2</th>\n",
       "      <td>Berlin</td>\n",
       "      <td>3323</td>\n",
       "      <td>25716</td>\n",
       "      <td>9598</td>\n",
       "      <td>0.5024</td>\n",
       "      <td>48147</td>\n",
       "    </tr>\n",
       "    <tr>\n",
       "      <th>3</th>\n",
       "      <td>Brandenburg</td>\n",
       "      <td>2185</td>\n",
       "      <td>15507</td>\n",
       "      <td>4498</td>\n",
       "      <td>0.4310</td>\n",
       "      <td>34610</td>\n",
       "    </tr>\n",
       "    <tr>\n",
       "      <th>4</th>\n",
       "      <td>Bremen</td>\n",
       "      <td>770</td>\n",
       "      <td>5809</td>\n",
       "      <td>2243</td>\n",
       "      <td>0.5187</td>\n",
       "      <td>56901</td>\n",
       "    </tr>\n",
       "  </tbody>\n",
       "</table>\n",
       "</div>"
      ],
      "text/plain": [
       "       federal_state  electric_total   total  hybrid_total  share_electric   \n",
       "0  Baden-Württemberg           20872  127339         42351          0.4965  \\\n",
       "1             Bayern           24662  185102         55845          0.4349   \n",
       "2             Berlin            3323   25716          9598          0.5024   \n",
       "3        Brandenburg            2185   15507          4498          0.4310   \n",
       "4             Bremen             770    5809          2243          0.5187   \n",
       "\n",
       "   gdp_per_capita  \n",
       "0           50982  \n",
       "1           53768  \n",
       "2           48147  \n",
       "3           34610  \n",
       "4           56901  "
      ]
     },
     "execution_count": 5,
     "metadata": {},
     "output_type": "execute_result"
    }
   ],
   "source": [
    "df.head()"
   ]
  }
 ],
 "metadata": {
  "kernelspec": {
   "display_name": ".venv",
   "language": "python",
   "name": "python3"
  },
  "language_info": {
   "codemirror_mode": {
    "name": "ipython",
    "version": 3
   },
   "file_extension": ".py",
   "mimetype": "text/x-python",
   "name": "python",
   "nbconvert_exporter": "python",
   "pygments_lexer": "ipython3",
   "version": "3.11.3"
  },
  "orig_nbformat": 4
 },
 "nbformat": 4,
 "nbformat_minor": 2
}
